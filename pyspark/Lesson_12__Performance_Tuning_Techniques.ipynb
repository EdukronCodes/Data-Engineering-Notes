{
 "cells": [
  {
   "cell_type": "markdown",
   "id": "6e748748",
   "metadata": {},
   "source": [
    "# Lesson 12 - Performance Tuning Techniques"
   ]
  }
 ],
 "metadata": {},
 "nbformat": 4,
 "nbformat_minor": 5
}
