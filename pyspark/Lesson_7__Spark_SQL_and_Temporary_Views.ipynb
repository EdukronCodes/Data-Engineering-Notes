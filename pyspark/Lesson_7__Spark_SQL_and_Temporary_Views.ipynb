{
 "cells": [
  {
   "cell_type": "markdown",
   "id": "27df29f5",
   "metadata": {},
   "source": [
    "# Lesson 7 - Spark SQL and Temporary Views"
   ]
  }
 ],
 "metadata": {},
 "nbformat": 4,
 "nbformat_minor": 5
}
