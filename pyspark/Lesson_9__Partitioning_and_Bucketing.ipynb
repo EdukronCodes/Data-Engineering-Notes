{
 "cells": [
  {
   "cell_type": "markdown",
   "id": "991d9f98",
   "metadata": {},
   "source": [
    "# Lesson 9 - Partitioning and Bucketing"
   ]
  }
 ],
 "metadata": {},
 "nbformat": 4,
 "nbformat_minor": 5
}
