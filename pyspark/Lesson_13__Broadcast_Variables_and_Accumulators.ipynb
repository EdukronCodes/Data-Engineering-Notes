{
 "cells": [
  {
   "cell_type": "markdown",
   "id": "20b51b0a",
   "metadata": {},
   "source": [
    "# Lesson 13 - Broadcast Variables and Accumulators"
   ]
  }
 ],
 "metadata": {},
 "nbformat": 4,
 "nbformat_minor": 5
}
