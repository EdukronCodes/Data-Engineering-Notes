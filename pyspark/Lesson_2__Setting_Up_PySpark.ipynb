{
 "cells": [
  {
   "cell_type": "markdown",
   "id": "63ae7a12",
   "metadata": {},
   "source": [
    "# Lesson 2 - Setting Up PySpark"
   ]
  }
 ],
 "metadata": {},
 "nbformat": 4,
 "nbformat_minor": 5
}
