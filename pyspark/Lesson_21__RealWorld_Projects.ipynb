{
 "cells": [
  {
   "cell_type": "markdown",
   "id": "88b69ade",
   "metadata": {},
   "source": [
    "# Lesson 21 - Real-World Projects"
   ]
  }
 ],
 "metadata": {},
 "nbformat": 4,
 "nbformat_minor": 5
}
