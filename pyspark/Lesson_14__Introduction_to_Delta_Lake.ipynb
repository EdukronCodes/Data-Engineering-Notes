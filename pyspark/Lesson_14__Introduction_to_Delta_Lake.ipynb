{
 "cells": [
  {
   "cell_type": "markdown",
   "id": "267a96fc",
   "metadata": {},
   "source": [
    "# Lesson 14 - Introduction to Delta Lake"
   ]
  }
 ],
 "metadata": {},
 "nbformat": 4,
 "nbformat_minor": 5
}
