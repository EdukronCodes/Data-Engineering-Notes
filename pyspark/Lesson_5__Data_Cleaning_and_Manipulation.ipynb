{
 "cells": [
  {
   "cell_type": "markdown",
   "id": "c923d32a",
   "metadata": {},
   "source": [
    "# Lesson 5 - Data Cleaning and Manipulation"
   ]
  }
 ],
 "metadata": {},
 "nbformat": 4,
 "nbformat_minor": 5
}
