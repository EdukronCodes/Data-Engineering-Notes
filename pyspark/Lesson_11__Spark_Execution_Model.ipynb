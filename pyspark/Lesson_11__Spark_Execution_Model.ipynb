{
 "cells": [
  {
   "cell_type": "markdown",
   "id": "4b03f563",
   "metadata": {},
   "source": [
    "# Lesson 11 - Spark Execution Model"
   ]
  }
 ],
 "metadata": {},
 "nbformat": 4,
 "nbformat_minor": 5
}
