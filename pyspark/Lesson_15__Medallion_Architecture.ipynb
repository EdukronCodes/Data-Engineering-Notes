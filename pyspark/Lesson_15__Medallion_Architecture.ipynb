{
 "cells": [
  {
   "cell_type": "markdown",
   "id": "27bfdbf2",
   "metadata": {},
   "source": [
    "# Lesson 15 - Medallion Architecture"
   ]
  }
 ],
 "metadata": {},
 "nbformat": 4,
 "nbformat_minor": 5
}
