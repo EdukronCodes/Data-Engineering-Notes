{
 "cells": [
  {
   "cell_type": "markdown",
   "id": "18f2ebcf",
   "metadata": {},
   "source": [
    "# Lesson 6 - Aggregations and Window Functions"
   ]
  }
 ],
 "metadata": {},
 "nbformat": 4,
 "nbformat_minor": 5
}
