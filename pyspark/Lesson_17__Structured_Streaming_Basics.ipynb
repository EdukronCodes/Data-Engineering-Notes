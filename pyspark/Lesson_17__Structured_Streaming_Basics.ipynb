{
 "cells": [
  {
   "cell_type": "markdown",
   "id": "92753c77",
   "metadata": {},
   "source": [
    "# Lesson 17 - Structured Streaming Basics"
   ]
  }
 ],
 "metadata": {},
 "nbformat": 4,
 "nbformat_minor": 5
}
